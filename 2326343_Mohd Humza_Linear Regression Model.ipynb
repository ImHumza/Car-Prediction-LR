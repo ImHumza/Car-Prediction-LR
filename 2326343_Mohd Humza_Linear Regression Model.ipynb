{
 "cells": [
  {
   "cell_type": "code",
   "execution_count": 1,
   "metadata": {
    "collapsed": true
   },
   "outputs": [],
   "source": [
    "import pandas as pd\n",
    "import numpy as np\n",
    "import seaborn as sns\n",
    "import matplotlib.pyplot as plt\n"
   ]
  },
  {
   "cell_type": "code",
   "execution_count": 2,
   "metadata": {},
   "outputs": [
    {
     "data": {
      "text/html": [
       "<div>\n",
       "<style scoped>\n",
       "    .dataframe tbody tr th:only-of-type {\n",
       "        vertical-align: middle;\n",
       "    }\n",
       "\n",
       "    .dataframe tbody tr th {\n",
       "        vertical-align: top;\n",
       "    }\n",
       "\n",
       "    .dataframe thead th {\n",
       "        text-align: right;\n",
       "    }\n",
       "</style>\n",
       "<table border=\"1\" class=\"dataframe\">\n",
       "  <thead>\n",
       "    <tr style=\"text-align: right;\">\n",
       "      <th></th>\n",
       "      <th>symboling</th>\n",
       "      <th>normalized.losses</th>\n",
       "      <th>make</th>\n",
       "      <th>fuel.type</th>\n",
       "      <th>aspiration</th>\n",
       "      <th>num.of.doors</th>\n",
       "      <th>body.style</th>\n",
       "      <th>drive.wheels</th>\n",
       "      <th>engine.location</th>\n",
       "      <th>wheel.base</th>\n",
       "      <th>...</th>\n",
       "      <th>engine.size</th>\n",
       "      <th>fuel.system</th>\n",
       "      <th>bore</th>\n",
       "      <th>stroke</th>\n",
       "      <th>compression.ratio</th>\n",
       "      <th>horsepower</th>\n",
       "      <th>peak.rpm</th>\n",
       "      <th>city.mpg</th>\n",
       "      <th>highway.mpg</th>\n",
       "      <th>Car_Price</th>\n",
       "    </tr>\n",
       "  </thead>\n",
       "  <tbody>\n",
       "    <tr>\n",
       "      <th>0</th>\n",
       "      <td>1</td>\n",
       "      <td>129.0</td>\n",
       "      <td>mazda</td>\n",
       "      <td>gas</td>\n",
       "      <td>std</td>\n",
       "      <td>two</td>\n",
       "      <td>hatchback</td>\n",
       "      <td>fwd</td>\n",
       "      <td>front</td>\n",
       "      <td>98.8</td>\n",
       "      <td>...</td>\n",
       "      <td>122</td>\n",
       "      <td>2bbl</td>\n",
       "      <td>3.39</td>\n",
       "      <td>3.39</td>\n",
       "      <td>8.6</td>\n",
       "      <td>84.0</td>\n",
       "      <td>4800.0</td>\n",
       "      <td>26</td>\n",
       "      <td>32</td>\n",
       "      <td>10595.0</td>\n",
       "    </tr>\n",
       "    <tr>\n",
       "      <th>1</th>\n",
       "      <td>1</td>\n",
       "      <td>125.0</td>\n",
       "      <td>mitsubishi</td>\n",
       "      <td>gas</td>\n",
       "      <td>std</td>\n",
       "      <td>four</td>\n",
       "      <td>sedan</td>\n",
       "      <td>fwd</td>\n",
       "      <td>front</td>\n",
       "      <td>96.3</td>\n",
       "      <td>...</td>\n",
       "      <td>122</td>\n",
       "      <td>2bbl</td>\n",
       "      <td>3.35</td>\n",
       "      <td>3.46</td>\n",
       "      <td>8.5</td>\n",
       "      <td>88.0</td>\n",
       "      <td>5000.0</td>\n",
       "      <td>25</td>\n",
       "      <td>32</td>\n",
       "      <td>8189.0</td>\n",
       "    </tr>\n",
       "    <tr>\n",
       "      <th>2</th>\n",
       "      <td>3</td>\n",
       "      <td>150.0</td>\n",
       "      <td>mazda</td>\n",
       "      <td>gas</td>\n",
       "      <td>std</td>\n",
       "      <td>two</td>\n",
       "      <td>hatchback</td>\n",
       "      <td>rwd</td>\n",
       "      <td>front</td>\n",
       "      <td>95.3</td>\n",
       "      <td>...</td>\n",
       "      <td>70</td>\n",
       "      <td>4bbl</td>\n",
       "      <td>NaN</td>\n",
       "      <td>NaN</td>\n",
       "      <td>9.4</td>\n",
       "      <td>101.0</td>\n",
       "      <td>6000.0</td>\n",
       "      <td>17</td>\n",
       "      <td>23</td>\n",
       "      <td>13645.0</td>\n",
       "    </tr>\n",
       "    <tr>\n",
       "      <th>3</th>\n",
       "      <td>3</td>\n",
       "      <td>194.0</td>\n",
       "      <td>nissan</td>\n",
       "      <td>gas</td>\n",
       "      <td>std</td>\n",
       "      <td>NaN</td>\n",
       "      <td>hatchback</td>\n",
       "      <td>rwd</td>\n",
       "      <td>front</td>\n",
       "      <td>91.3</td>\n",
       "      <td>...</td>\n",
       "      <td>181</td>\n",
       "      <td>mpfi</td>\n",
       "      <td>3.43</td>\n",
       "      <td>3.27</td>\n",
       "      <td>9.0</td>\n",
       "      <td>160.0</td>\n",
       "      <td>5200.0</td>\n",
       "      <td>19</td>\n",
       "      <td>25</td>\n",
       "      <td>17199.0</td>\n",
       "    </tr>\n",
       "    <tr>\n",
       "      <th>4</th>\n",
       "      <td>0</td>\n",
       "      <td>85.0</td>\n",
       "      <td>honda</td>\n",
       "      <td>gas</td>\n",
       "      <td>std</td>\n",
       "      <td>four</td>\n",
       "      <td>sedan</td>\n",
       "      <td>fwd</td>\n",
       "      <td>front</td>\n",
       "      <td>96.5</td>\n",
       "      <td>...</td>\n",
       "      <td>110</td>\n",
       "      <td>mpfi</td>\n",
       "      <td>3.15</td>\n",
       "      <td>3.58</td>\n",
       "      <td>9.0</td>\n",
       "      <td>101.0</td>\n",
       "      <td>5800.0</td>\n",
       "      <td>24</td>\n",
       "      <td>28</td>\n",
       "      <td>12945.0</td>\n",
       "    </tr>\n",
       "  </tbody>\n",
       "</table>\n",
       "<p>5 rows × 26 columns</p>\n",
       "</div>"
      ],
      "text/plain": [
       "   symboling  normalized.losses        make fuel.type aspiration num.of.doors  \\\n",
       "0          1              129.0       mazda       gas        std          two   \n",
       "1          1              125.0  mitsubishi       gas        std         four   \n",
       "2          3              150.0       mazda       gas        std          two   \n",
       "3          3              194.0      nissan       gas        std          NaN   \n",
       "4          0               85.0       honda       gas        std         four   \n",
       "\n",
       "  body.style drive.wheels engine.location  wheel.base    ...      engine.size  \\\n",
       "0  hatchback          fwd           front        98.8    ...              122   \n",
       "1      sedan          fwd           front        96.3    ...              122   \n",
       "2  hatchback          rwd           front        95.3    ...               70   \n",
       "3  hatchback          rwd           front        91.3    ...              181   \n",
       "4      sedan          fwd           front        96.5    ...              110   \n",
       "\n",
       "   fuel.system  bore  stroke compression.ratio horsepower  peak.rpm city.mpg  \\\n",
       "0         2bbl  3.39    3.39               8.6       84.0    4800.0       26   \n",
       "1         2bbl  3.35    3.46               8.5       88.0    5000.0       25   \n",
       "2         4bbl   NaN     NaN               9.4      101.0    6000.0       17   \n",
       "3         mpfi  3.43    3.27               9.0      160.0    5200.0       19   \n",
       "4         mpfi  3.15    3.58               9.0      101.0    5800.0       24   \n",
       "\n",
       "   highway.mpg  Car_Price  \n",
       "0           32    10595.0  \n",
       "1           32     8189.0  \n",
       "2           23    13645.0  \n",
       "3           25    17199.0  \n",
       "4           28    12945.0  \n",
       "\n",
       "[5 rows x 26 columns]"
      ]
     },
     "execution_count": 2,
     "metadata": {},
     "output_type": "execute_result"
    }
   ],
   "source": [
    "data = pd.read_csv(\"cars_train.csv\")\n",
    "data.head()"
   ]
  },
  {
   "cell_type": "code",
   "execution_count": 3,
   "metadata": {},
   "outputs": [
    {
     "name": "stdout",
     "output_type": "stream",
     "text": [
      "     symboling  normalized.losses           make fuel.type aspiration  \\\n",
      "2            3              150.0          mazda       gas        std   \n",
      "3            3              194.0         nissan       gas        std   \n",
      "6            2                NaN        renault       gas        std   \n",
      "9            0                NaN          mazda    diesel        std   \n",
      "10           0                NaN           audi       gas      turbo   \n",
      "11           0                NaN          isuzu       gas        std   \n",
      "12           0                NaN     volkswagen       gas        std   \n",
      "15           0              110.0          honda       gas        std   \n",
      "16          -1                NaN         toyota       gas        std   \n",
      "20           2              137.0          honda       gas        std   \n",
      "31           3                NaN     mitsubishi       gas      turbo   \n",
      "34           0                NaN         jaguar       gas        std   \n",
      "35           0                NaN          isuzu       gas        std   \n",
      "39           0              128.0         nissan       gas        std   \n",
      "41           0                NaN        renault       gas        std   \n",
      "50           0                NaN         peugot    diesel      turbo   \n",
      "58           3                NaN    alfa-romero       gas        std   \n",
      "61           3                NaN        porsche       gas        std   \n",
      "64           3                NaN     volkswagen       gas        std   \n",
      "69           3                NaN        porsche       gas        std   \n",
      "71           2                NaN          isuzu       gas        std   \n",
      "78          -1               65.0         toyota       gas        std   \n",
      "88           3                NaN        porsche       gas        std   \n",
      "90           0                NaN            bmw       gas        std   \n",
      "91           0                NaN          mazda    diesel        std   \n",
      "93           1              148.0          dodge       gas        std   \n",
      "94           1                NaN    alfa-romero       gas        std   \n",
      "111          1              119.0       plymouth       gas      turbo   \n",
      "115         -2              103.0          volvo       gas        std   \n",
      "119          0              106.0         nissan       gas        std   \n",
      "125          3                NaN       plymouth       gas      turbo   \n",
      "127          3              150.0          mazda       gas        std   \n",
      "128          3                NaN     mitsubishi       gas      turbo   \n",
      "130          2              134.0         toyota       gas        std   \n",
      "131          0                NaN            bmw       gas        std   \n",
      "132          0                NaN  mercedes-benz       gas        std   \n",
      "134          0                NaN         jaguar       gas        std   \n",
      "135          0              102.0         subaru       gas        std   \n",
      "138          0                NaN         peugot    diesel      turbo   \n",
      "139          2              161.0     mitsubishi       gas        std   \n",
      "141          0                NaN         peugot       gas        std   \n",
      "144          3              150.0          mazda       gas        std   \n",
      "145          1                NaN            bmw       gas        std   \n",
      "148          1                NaN        porsche       gas        std   \n",
      "150         -1               95.0          volvo    diesel      turbo   \n",
      "153          3              194.0         nissan       gas        std   \n",
      "157          0                NaN         peugot       gas        std   \n",
      "159          3              194.0         nissan       gas        std   \n",
      "\n",
      "    num.of.doors   body.style drive.wheels engine.location  wheel.base  \\\n",
      "2            two    hatchback          rwd           front        95.3   \n",
      "3            NaN    hatchback          rwd           front        91.3   \n",
      "6            two    hatchback          fwd           front        96.1   \n",
      "9           four        sedan          rwd           front       104.9   \n",
      "10           two    hatchback          4wd           front        99.5   \n",
      "11          four        sedan          fwd           front        94.5   \n",
      "12          four        sedan          fwd           front       100.4   \n",
      "15          four        sedan          fwd           front        96.5   \n",
      "16          four        wagon          rwd           front       104.5   \n",
      "20           NaN    hatchback          fwd           front        86.6   \n",
      "31           two    hatchback          fwd           front        95.9   \n",
      "34           two        sedan          rwd           front       102.0   \n",
      "35          four        sedan          rwd           front        94.3   \n",
      "39           NaN        sedan          fwd           front       100.4   \n",
      "41          four        wagon          fwd           front        96.1   \n",
      "50          four        wagon          rwd           front       114.2   \n",
      "58           two  convertible          rwd           front        88.6   \n",
      "61           two      hardtop          rwd            rear        89.5   \n",
      "64           two  convertible          fwd           front        94.5   \n",
      "69           two  convertible          rwd            rear        89.5   \n",
      "71           two    hatchback          rwd           front        96.0   \n",
      "78           NaN        sedan          fwd           front       102.4   \n",
      "88           two      hardtop          rwd             NaN        89.5   \n",
      "90           two        sedan          rwd           front       103.5   \n",
      "91           NaN        sedan          fwd           front        98.8   \n",
      "93          four        sedan          fwd           front        93.7   \n",
      "94           two    hatchback          rwd           front        94.5   \n",
      "111          two    hatchback          fwd             NaN        93.7   \n",
      "115         four        sedan          rwd           front       104.3   \n",
      "119         four    hatchback          fwd           front        97.2   \n",
      "125          two    hatchback          rwd           front        95.9   \n",
      "127          two    hatchback          rwd           front        95.3   \n",
      "128          two    hatchback          fwd           front        95.9   \n",
      "130          NaN      hardtop          rwd           front        98.4   \n",
      "131         four        sedan          rwd           front       103.5   \n",
      "132         four        sedan          rwd           front       120.9   \n",
      "134         four        sedan          rwd           front       113.0   \n",
      "135          NaN        sedan          fwd           front        97.2   \n",
      "138         four        wagon          rwd           front       114.2   \n",
      "139          NaN    hatchback          fwd           front        93.7   \n",
      "141         four        wagon          rwd           front       114.2   \n",
      "144          two    hatchback          rwd           front        95.3   \n",
      "145         four        sedan          rwd           front       103.5   \n",
      "148          two    hatchback          rwd           front        98.4   \n",
      "150          NaN        sedan          rwd           front       109.1   \n",
      "153          NaN    hatchback          rwd           front        91.3   \n",
      "157         four        wagon          rwd           front       114.2   \n",
      "159          NaN    hatchback          rwd           front        91.3   \n",
      "\n",
      "       ...      engine.size  fuel.system  bore  stroke compression.ratio  \\\n",
      "2      ...               70         4bbl   NaN     NaN               9.4   \n",
      "3      ...              181         mpfi  3.43    3.27               9.0   \n",
      "6      ...              132         mpfi  3.46    3.90               8.7   \n",
      "9      ...              134          idi  3.43    3.64              22.0   \n",
      "10     ...              131         mpfi  3.13    3.40               7.0   \n",
      "11     ...               90         2bbl  3.03    3.11               9.6   \n",
      "12     ...              136         mpfi  3.19    3.40               8.5   \n",
      "15     ...               92         1bbl  2.91    3.41               9.2   \n",
      "16     ...              161         mpfi  3.27    3.35               9.2   \n",
      "20     ...               92         1bbl  2.91    3.41               9.6   \n",
      "31     ...              156         spdi  3.58    3.86               7.0   \n",
      "34     ...              326         mpfi  3.54    2.76              11.5   \n",
      "35     ...              111         2bbl  3.31    3.23               8.5   \n",
      "39     ...              181         mpfi  3.43    3.27               9.0   \n",
      "41     ...              132         mpfi  3.46    3.90               8.7   \n",
      "50     ...              152          idi  3.70    3.52              21.0   \n",
      "58     ...              130         mpfi  3.47    2.68               9.0   \n",
      "61     ...              194         mpfi  3.74    2.90               9.5   \n",
      "64     ...              109         mpfi  3.19    3.40               8.5   \n",
      "69     ...              194         mpfi  3.74    2.90               9.5   \n",
      "71     ...              119         spfi  3.43    3.23               9.2   \n",
      "78     ...              122         mpfi  3.31    3.54               8.7   \n",
      "88     ...              194         mpfi  3.74    2.90               9.5   \n",
      "90     ...              209         mpfi  3.62    3.39               8.0   \n",
      "91     ...              122          idi  3.39    3.39              22.7   \n",
      "93     ...               90         2bbl  2.97    3.23               9.4   \n",
      "94     ...              152         mpfi  2.68    3.47               9.0   \n",
      "111    ...               98         spdi  3.03    3.39               7.6   \n",
      "115    ...              141         mpfi  3.78    3.15               9.5   \n",
      "119    ...              120         2bbl  3.33    3.47               8.5   \n",
      "125    ...              156         spdi  3.59    3.86               7.0   \n",
      "127    ...               70         4bbl   NaN     NaN               9.4   \n",
      "128    ...              156         spdi  3.59    3.86               7.0   \n",
      "130    ...              146         mpfi  3.62    3.50               9.3   \n",
      "131    ...              209         mpfi  3.62    3.39               8.0   \n",
      "132    ...              308         mpfi  3.80    3.35               8.0   \n",
      "134    ...              258         mpfi  3.63    4.17               8.1   \n",
      "135    ...              108         mpfi  3.62    2.64               9.0   \n",
      "138    ...              152          idi  3.70    3.52              21.0   \n",
      "139    ...               92         2bbl  2.97    3.23               9.4   \n",
      "141    ...              120         mpfi  3.46    2.19               8.4   \n",
      "144    ...               70         4bbl   NaN     NaN               9.4   \n",
      "145    ...              164         mpfi  3.31    3.19               9.0   \n",
      "148    ...              203         mpfi  3.94    3.11              10.0   \n",
      "150    ...              145          idi  3.01    3.40              23.0   \n",
      "153    ...              181         mpfi  3.43    3.27               9.0   \n",
      "157    ...              120         mpfi  3.46    2.19               8.4   \n",
      "159    ...              181         mpfi  3.43    3.27               9.0   \n",
      "\n",
      "    horsepower  peak.rpm city.mpg  highway.mpg  Car_Price  \n",
      "2        101.0    6000.0       17           23    13645.0  \n",
      "3        160.0    5200.0       19           25    17199.0  \n",
      "6          NaN       NaN       23           31     9895.0  \n",
      "9         72.0    4200.0       31           39    18344.0  \n",
      "10       160.0    5500.0       16           22        NaN  \n",
      "11        70.0    5400.0       38           43        NaN  \n",
      "12       110.0    5500.0       19           24    13295.0  \n",
      "15        76.0    6000.0       30           34     7295.0  \n",
      "16       156.0    5200.0       19           24    15750.0  \n",
      "20        58.0    4800.0       49           54     6479.0  \n",
      "31       145.0    5000.0       19           24    12629.0  \n",
      "34       262.0    5000.0       13           17    36000.0  \n",
      "35        78.0    4800.0       24           29     6785.0  \n",
      "39       152.0    5200.0       17           22    13499.0  \n",
      "41         NaN       NaN       23           31     9295.0  \n",
      "50        95.0    4150.0       25           25    17075.0  \n",
      "58       111.0    5000.0       21           27    16500.0  \n",
      "61       207.0    5900.0       17           25    34028.0  \n",
      "64        90.0    5500.0       24           29    11595.0  \n",
      "69       207.0    5900.0       17           25    37028.0  \n",
      "71        90.0    5000.0       24           29    11048.0  \n",
      "78        92.0    4200.0       29           34     8948.0  \n",
      "88       207.0    5900.0       17           25    32528.0  \n",
      "90       182.0    5400.0       16           22    41315.0  \n",
      "91        64.0    4650.0       36           42    10795.0  \n",
      "93         NaN       NaN       31           38     7609.0  \n",
      "94       154.0    5000.0       19           26    16500.0  \n",
      "111      102.0    5500.0       24           30     7957.0  \n",
      "115        NaN       NaN       24           28    15985.0  \n",
      "119       97.0    5200.0       27           34     8949.0  \n",
      "125      145.0    5000.0       19           24    12764.0  \n",
      "127      101.0    6000.0       17           23    10945.0  \n",
      "128      145.0    5000.0       19           24    14869.0  \n",
      "130      116.0    4800.0       24           30     8449.0  \n",
      "131      182.0    5400.0       16           22    30760.0  \n",
      "132      184.0    4500.0       14           16    40960.0  \n",
      "134      176.0    4750.0       15           19    35550.0  \n",
      "135       94.0    5200.0       26           32     9960.0  \n",
      "138       95.0    4150.0       25           25    13860.0  \n",
      "139       68.0    5500.0       31           38     6669.0  \n",
      "141       95.0    5000.0       19           24    16695.0  \n",
      "144      101.0    6000.0       17           23    11845.0  \n",
      "145      121.0    4250.0       20           25    24565.0  \n",
      "148      288.0    5750.0       17           28        NaN  \n",
      "150      106.0    4800.0       26           27    22470.0  \n",
      "153      160.0    5200.0       19           25    17199.0  \n",
      "157       95.0    5000.0       19           24    16695.0  \n",
      "159      160.0    5200.0       19           25    17199.0  \n",
      "\n",
      "[48 rows x 26 columns]\n"
     ]
    }
   ],
   "source": [
    "#Rows containing null fields\n",
    "null_data = data[data.isnull().any(axis=1)]\n",
    "print(null_data)"
   ]
  },
  {
   "cell_type": "markdown",
   "metadata": {},
   "source": [
    "We have multiple ways to treat NA values\n",
    "1. Fill with Mean/Average\n",
    "2. using fillna(0) \n",
    "3. using fillna(bfill)\n",
    "etc\n",
    "\n",
    "I have used the below method as we have two types of column char and integer that's why i have chosen bfill over 0 and average\n"
   ]
  },
  {
   "cell_type": "code",
   "execution_count": 4,
   "metadata": {
    "collapsed": true
   },
   "outputs": [],
   "source": [
    "#I have used bfill to fill the Na data\n",
    "data = data.fillna(method='bfill')"
   ]
  },
  {
   "cell_type": "code",
   "execution_count": 5,
   "metadata": {},
   "outputs": [
    {
     "name": "stdout",
     "output_type": "stream",
     "text": [
      "Empty DataFrame\n",
      "Columns: [symboling, normalized.losses, make, fuel.type, aspiration, num.of.doors, body.style, drive.wheels, engine.location, wheel.base, length, width, height, curb.weight, engine.type, num.of.cylinders, engine.size, fuel.system, bore, stroke, compression.ratio, horsepower, peak.rpm, city.mpg, highway.mpg, Car_Price]\n",
      "Index: []\n",
      "\n",
      "[0 rows x 26 columns]\n"
     ]
    }
   ],
   "source": [
    "# To check for null data\n",
    "null_data = data[data.isnull().any(axis=1)]\n",
    "print(null_data)"
   ]
  },
  {
   "cell_type": "code",
   "execution_count": 6,
   "metadata": {},
   "outputs": [
    {
     "data": {
      "text/html": [
       "<div>\n",
       "<style scoped>\n",
       "    .dataframe tbody tr th:only-of-type {\n",
       "        vertical-align: middle;\n",
       "    }\n",
       "\n",
       "    .dataframe tbody tr th {\n",
       "        vertical-align: top;\n",
       "    }\n",
       "\n",
       "    .dataframe thead th {\n",
       "        text-align: right;\n",
       "    }\n",
       "</style>\n",
       "<table border=\"1\" class=\"dataframe\">\n",
       "  <thead>\n",
       "    <tr style=\"text-align: right;\">\n",
       "      <th></th>\n",
       "      <th>symboling</th>\n",
       "      <th>normalized.losses</th>\n",
       "      <th>wheel.base</th>\n",
       "      <th>length</th>\n",
       "      <th>width</th>\n",
       "      <th>height</th>\n",
       "      <th>curb.weight</th>\n",
       "      <th>engine.size</th>\n",
       "      <th>bore</th>\n",
       "      <th>stroke</th>\n",
       "      <th>compression.ratio</th>\n",
       "      <th>horsepower</th>\n",
       "      <th>peak.rpm</th>\n",
       "      <th>city.mpg</th>\n",
       "      <th>highway.mpg</th>\n",
       "      <th>Car_Price</th>\n",
       "    </tr>\n",
       "  </thead>\n",
       "  <tbody>\n",
       "    <tr>\n",
       "      <th>count</th>\n",
       "      <td>162.000000</td>\n",
       "      <td>162.000000</td>\n",
       "      <td>162.000000</td>\n",
       "      <td>162.000000</td>\n",
       "      <td>162.000000</td>\n",
       "      <td>162.000000</td>\n",
       "      <td>162.000000</td>\n",
       "      <td>162.000000</td>\n",
       "      <td>162.000000</td>\n",
       "      <td>162.000000</td>\n",
       "      <td>162.000000</td>\n",
       "      <td>162.000000</td>\n",
       "      <td>162.000000</td>\n",
       "      <td>162.000000</td>\n",
       "      <td>162.000000</td>\n",
       "      <td>162.000000</td>\n",
       "    </tr>\n",
       "    <tr>\n",
       "      <th>mean</th>\n",
       "      <td>0.907407</td>\n",
       "      <td>124.234568</td>\n",
       "      <td>98.354321</td>\n",
       "      <td>173.595062</td>\n",
       "      <td>65.843210</td>\n",
       "      <td>53.537654</td>\n",
       "      <td>2561.932099</td>\n",
       "      <td>128.160494</td>\n",
       "      <td>3.343580</td>\n",
       "      <td>3.243148</td>\n",
       "      <td>10.008704</td>\n",
       "      <td>106.179012</td>\n",
       "      <td>5124.074074</td>\n",
       "      <td>25.123457</td>\n",
       "      <td>30.679012</td>\n",
       "      <td>13223.716049</td>\n",
       "    </tr>\n",
       "    <tr>\n",
       "      <th>std</th>\n",
       "      <td>1.298855</td>\n",
       "      <td>36.045097</td>\n",
       "      <td>6.049384</td>\n",
       "      <td>12.339100</td>\n",
       "      <td>2.022325</td>\n",
       "      <td>2.346770</td>\n",
       "      <td>524.474870</td>\n",
       "      <td>41.684844</td>\n",
       "      <td>0.272792</td>\n",
       "      <td>0.356490</td>\n",
       "      <td>3.735804</td>\n",
       "      <td>41.375707</td>\n",
       "      <td>500.037956</td>\n",
       "      <td>6.604878</td>\n",
       "      <td>6.879309</td>\n",
       "      <td>7690.678949</td>\n",
       "    </tr>\n",
       "    <tr>\n",
       "      <th>min</th>\n",
       "      <td>-2.000000</td>\n",
       "      <td>65.000000</td>\n",
       "      <td>86.600000</td>\n",
       "      <td>141.100000</td>\n",
       "      <td>60.300000</td>\n",
       "      <td>47.800000</td>\n",
       "      <td>1488.000000</td>\n",
       "      <td>61.000000</td>\n",
       "      <td>2.540000</td>\n",
       "      <td>2.070000</td>\n",
       "      <td>7.000000</td>\n",
       "      <td>48.000000</td>\n",
       "      <td>4150.000000</td>\n",
       "      <td>13.000000</td>\n",
       "      <td>16.000000</td>\n",
       "      <td>5118.000000</td>\n",
       "    </tr>\n",
       "    <tr>\n",
       "      <th>25%</th>\n",
       "      <td>0.000000</td>\n",
       "      <td>98.000000</td>\n",
       "      <td>94.500000</td>\n",
       "      <td>166.425000</td>\n",
       "      <td>64.125000</td>\n",
       "      <td>52.000000</td>\n",
       "      <td>2151.000000</td>\n",
       "      <td>98.000000</td>\n",
       "      <td>3.150000</td>\n",
       "      <td>3.080000</td>\n",
       "      <td>8.700000</td>\n",
       "      <td>72.250000</td>\n",
       "      <td>4800.000000</td>\n",
       "      <td>19.000000</td>\n",
       "      <td>25.000000</td>\n",
       "      <td>7604.500000</td>\n",
       "    </tr>\n",
       "    <tr>\n",
       "      <th>50%</th>\n",
       "      <td>1.000000</td>\n",
       "      <td>118.000000</td>\n",
       "      <td>96.500000</td>\n",
       "      <td>172.400000</td>\n",
       "      <td>65.450000</td>\n",
       "      <td>53.700000</td>\n",
       "      <td>2419.500000</td>\n",
       "      <td>120.000000</td>\n",
       "      <td>3.340000</td>\n",
       "      <td>3.270000</td>\n",
       "      <td>9.000000</td>\n",
       "      <td>95.000000</td>\n",
       "      <td>5150.000000</td>\n",
       "      <td>24.000000</td>\n",
       "      <td>30.000000</td>\n",
       "      <td>10921.500000</td>\n",
       "    </tr>\n",
       "    <tr>\n",
       "      <th>75%</th>\n",
       "      <td>2.000000</td>\n",
       "      <td>150.000000</td>\n",
       "      <td>101.200000</td>\n",
       "      <td>181.650000</td>\n",
       "      <td>66.575000</td>\n",
       "      <td>55.500000</td>\n",
       "      <td>2975.750000</td>\n",
       "      <td>146.000000</td>\n",
       "      <td>3.600000</td>\n",
       "      <td>3.460000</td>\n",
       "      <td>9.400000</td>\n",
       "      <td>122.500000</td>\n",
       "      <td>5500.000000</td>\n",
       "      <td>30.000000</td>\n",
       "      <td>34.000000</td>\n",
       "      <td>16612.000000</td>\n",
       "    </tr>\n",
       "    <tr>\n",
       "      <th>max</th>\n",
       "      <td>3.000000</td>\n",
       "      <td>256.000000</td>\n",
       "      <td>120.900000</td>\n",
       "      <td>208.100000</td>\n",
       "      <td>72.300000</td>\n",
       "      <td>59.100000</td>\n",
       "      <td>4066.000000</td>\n",
       "      <td>326.000000</td>\n",
       "      <td>3.940000</td>\n",
       "      <td>4.170000</td>\n",
       "      <td>23.000000</td>\n",
       "      <td>288.000000</td>\n",
       "      <td>6600.000000</td>\n",
       "      <td>49.000000</td>\n",
       "      <td>54.000000</td>\n",
       "      <td>41315.000000</td>\n",
       "    </tr>\n",
       "  </tbody>\n",
       "</table>\n",
       "</div>"
      ],
      "text/plain": [
       "        symboling  normalized.losses  wheel.base      length       width  \\\n",
       "count  162.000000         162.000000  162.000000  162.000000  162.000000   \n",
       "mean     0.907407         124.234568   98.354321  173.595062   65.843210   \n",
       "std      1.298855          36.045097    6.049384   12.339100    2.022325   \n",
       "min     -2.000000          65.000000   86.600000  141.100000   60.300000   \n",
       "25%      0.000000          98.000000   94.500000  166.425000   64.125000   \n",
       "50%      1.000000         118.000000   96.500000  172.400000   65.450000   \n",
       "75%      2.000000         150.000000  101.200000  181.650000   66.575000   \n",
       "max      3.000000         256.000000  120.900000  208.100000   72.300000   \n",
       "\n",
       "           height  curb.weight  engine.size        bore      stroke  \\\n",
       "count  162.000000   162.000000   162.000000  162.000000  162.000000   \n",
       "mean    53.537654  2561.932099   128.160494    3.343580    3.243148   \n",
       "std      2.346770   524.474870    41.684844    0.272792    0.356490   \n",
       "min     47.800000  1488.000000    61.000000    2.540000    2.070000   \n",
       "25%     52.000000  2151.000000    98.000000    3.150000    3.080000   \n",
       "50%     53.700000  2419.500000   120.000000    3.340000    3.270000   \n",
       "75%     55.500000  2975.750000   146.000000    3.600000    3.460000   \n",
       "max     59.100000  4066.000000   326.000000    3.940000    4.170000   \n",
       "\n",
       "       compression.ratio  horsepower     peak.rpm    city.mpg  highway.mpg  \\\n",
       "count         162.000000  162.000000   162.000000  162.000000   162.000000   \n",
       "mean           10.008704  106.179012  5124.074074   25.123457    30.679012   \n",
       "std             3.735804   41.375707   500.037956    6.604878     6.879309   \n",
       "min             7.000000   48.000000  4150.000000   13.000000    16.000000   \n",
       "25%             8.700000   72.250000  4800.000000   19.000000    25.000000   \n",
       "50%             9.000000   95.000000  5150.000000   24.000000    30.000000   \n",
       "75%             9.400000  122.500000  5500.000000   30.000000    34.000000   \n",
       "max            23.000000  288.000000  6600.000000   49.000000    54.000000   \n",
       "\n",
       "          Car_Price  \n",
       "count    162.000000  \n",
       "mean   13223.716049  \n",
       "std     7690.678949  \n",
       "min     5118.000000  \n",
       "25%     7604.500000  \n",
       "50%    10921.500000  \n",
       "75%    16612.000000  \n",
       "max    41315.000000  "
      ]
     },
     "execution_count": 6,
     "metadata": {},
     "output_type": "execute_result"
    }
   ],
   "source": [
    "data.describe()"
   ]
  },
  {
   "cell_type": "code",
   "execution_count": 7,
   "metadata": {
    "collapsed": true
   },
   "outputs": [],
   "source": [
    "#Scatter plot between Car price and symboling\n",
    "x= data['symboling'].values\n",
    "y= data['Car_Price'].values"
   ]
  },
  {
   "cell_type": "code",
   "execution_count": 8,
   "metadata": {},
   "outputs": [
    {
     "data": {
      "image/png": "[encoded data removed]",
      "text/plain": [
       "<matplotlib.figure.Figure at 0x9f509d7d30>"
      ]
     },
     "metadata": {},
     "output_type": "display_data"
    }
   ],
   "source": [
    "plt.scatter(x,y)\n",
    "plt.show()"
   ]
  },
  {
   "cell_type": "code",
   "execution_count": 9,
   "metadata": {},
   "outputs": [
    {
     "data": {
      "image/png": "[encoded data removed]",
      "text/plain": [
       "<matplotlib.figure.Figure at 0x9f52ab49e8>"
      ]
     },
     "metadata": {},
     "output_type": "display_data"
    }
   ],
   "source": [
    "#Box plot to predict outliers\n",
    "x1= data['fuel.type'].values\n",
    "y1= data['Car_Price'].values\n",
    "plt.boxplot(y1)\n",
    "plt.xlabel('Car Price')\n",
    "plt.show()"
   ]
  },
  {
   "cell_type": "code",
   "execution_count": 10,
   "metadata": {},
   "outputs": [
    {
     "data": {
      "image/png": "[encoded data removed]",
      "text/plain": [
       "<matplotlib.figure.Figure at 0x9f509d7eb8>"
      ]
     },
     "metadata": {},
     "output_type": "display_data"
    }
   ],
   "source": [
    "# Scatter plot shows Gas vehicle are more in number and prices are also high as compared to diesel\n",
    "x2= data['fuel.type'].values\n",
    "y2= data['Car_Price'].values\n",
    "plt.scatter(x2,y2)\n",
    "plt.show()"
   ]
  },
  {
   "cell_type": "code",
   "execution_count": 11,
   "metadata": {},
   "outputs": [
    {
     "data": {
      "text/plain": [
       "(-0.060501629942407605, 0.44439185413745486)"
      ]
     },
     "execution_count": 11,
     "metadata": {},
     "output_type": "execute_result"
    }
   ],
   "source": [
    "#Coefficient between symboling and car-price\n",
    "from scipy.stats.stats import pearsonr\n",
    "x= data['symboling'].values\n",
    "y= data['Car_Price'].values\n",
    "pearsonr(x, y)"
   ]
  },
  {
   "cell_type": "markdown",
   "metadata": {},
   "source": [
    "Decide which categorical variables to use in model"
   ]
  },
  {
   "cell_type": "code",
   "execution_count": 13,
   "metadata": {},
   "outputs": [
    {
     "name": "stdout",
     "output_type": "stream",
     "text": [
      "Feature 'make' has 21 unique categories\n",
      "Feature 'fuel.type' has 2 unique categories\n",
      "Feature 'aspiration' has 2 unique categories\n",
      "Feature 'num.of.doors' has 2 unique categories\n",
      "Feature 'body.style' has 5 unique categories\n",
      "Feature 'drive.wheels' has 3 unique categories\n",
      "Feature 'engine.location' has 2 unique categories\n",
      "Feature 'engine.type' has 7 unique categories\n",
      "Feature 'num.of.cylinders' has 7 unique categories\n",
      "Feature 'fuel.system' has 8 unique categories\n"
     ]
    }
   ],
   "source": [
    "# To see how many different categories do we have for each Ordinal/nominal variable\n",
    "for col_name in data.columns:\n",
    "    if data[col_name].dtype == 'object':\n",
    "        unique_cat = len(data[col_name].unique())\n",
    "        print(\"Feature '{col_name}' has {unique_cat} unique categories\".format(col_name=col_name,unique_cat=unique_cat))"
   ]
  },
  {
   "cell_type": "code",
   "execution_count": 14,
   "metadata": {},
   "outputs": [
    {
     "name": "stdout",
     "output_type": "stream",
     "text": [
      "toyota           26\n",
      "nissan           16\n",
      "honda            14\n",
      "subaru           13\n",
      "mazda            12\n",
      "mitsubishi       11\n",
      "peugot           10\n",
      "volvo             8\n",
      "volkswagen        7\n",
      "bmw               6\n",
      "porsche           5\n",
      "saab              5\n",
      "mercedes-benz     5\n",
      "plymouth          4\n",
      "dodge             4\n",
      "audi              3\n",
      "chevrolet         3\n",
      "jaguar            3\n",
      "isuzu             3\n",
      "renault           2\n",
      "alfa-romero       2\n",
      "Name: make, dtype: int64\n"
     ]
    }
   ],
   "source": [
    "#To list make column with each of the categories\n",
    "print (data['make'].value_counts().sort_values(ascending=False).head(21))"
   ]
  },
  {
   "cell_type": "markdown",
   "metadata": {},
   "source": [
    "Create a list of features as dummy"
   ]
  },
  {
   "cell_type": "markdown",
   "metadata": {},
   "source": [
    "pd.get_dummies(data, columns =['fuel.type', 'aspiration', 'num.of.doors', 'body.style', 'drive.wheels', 'engine.location', 'engine.type', 'num.of.cylinders', 'fuel.system'])\n",
    "   "
   ]
  },
  {
   "cell_type": "code",
   "execution_count": 15,
   "metadata": {
    "collapsed": true
   },
   "outputs": [],
   "source": [
    "#List of categorical/nominal variable\n",
    "todummy_list = ['fuel.type', 'aspiration', 'num.of.doors', 'drive.wheels', 'engine.type', 'num.of.cylinders', 'fuel.system']"
   ]
  },
  {
   "cell_type": "code",
   "execution_count": 16,
   "metadata": {
    "collapsed": true
   },
   "outputs": [],
   "source": [
    "#Function to create dummy varibale as model can only be fed with numeric data\n",
    "def dummy_data(data, todummy_list):\n",
    "    for x in todummy_list:\n",
    "        dummies = pd.get_dummies(data[x], prefix=x, dummy_na = False)\n",
    "        data = data.drop(x,1)\n",
    "        data = pd.concat([data, dummies], axis=1)\n",
    "    return data    \n",
    "        "
   ]
  },
  {
   "cell_type": "code",
   "execution_count": 17,
   "metadata": {},
   "outputs": [
    {
     "name": "stdout",
     "output_type": "stream",
     "text": [
      "   symboling  normalized.losses        make body.style engine.location  \\\n",
      "0          1              129.0       mazda  hatchback           front   \n",
      "1          1              125.0  mitsubishi      sedan           front   \n",
      "2          3              150.0       mazda  hatchback           front   \n",
      "3          3              194.0      nissan  hatchback           front   \n",
      "4          0               85.0       honda      sedan           front   \n",
      "\n",
      "   wheel.base  length  width  height  curb.weight        ...         \\\n",
      "0        98.8   177.8   66.5    53.7         2385        ...          \n",
      "1        96.3   172.4   65.4    51.6         2405        ...          \n",
      "2        95.3   169.0   65.7    49.6         2385        ...          \n",
      "3        91.3   170.7   67.9    49.7         3071        ...          \n",
      "4        96.5   175.4   65.2    54.1         2465        ...          \n",
      "\n",
      "   num.of.cylinders_twelve  num.of.cylinders_two  fuel.system_1bbl  \\\n",
      "0                        0                     0                 0   \n",
      "1                        0                     0                 0   \n",
      "2                        0                     1                 0   \n",
      "3                        0                     0                 0   \n",
      "4                        0                     0                 0   \n",
      "\n",
      "   fuel.system_2bbl  fuel.system_4bbl  fuel.system_idi  fuel.system_mfi  \\\n",
      "0                 1                 0                0                0   \n",
      "1                 1                 0                0                0   \n",
      "2                 0                 1                0                0   \n",
      "3                 0                 0                0                0   \n",
      "4                 0                 0                0                0   \n",
      "\n",
      "   fuel.system_mpfi  fuel.system_spdi  fuel.system_spfi  \n",
      "0                 0                 0                 0  \n",
      "1                 0                 0                 0  \n",
      "2                 0                 0                 0  \n",
      "3                 1                 0                 0  \n",
      "4                 1                 0                 0  \n",
      "\n",
      "[5 rows x 50 columns]\n"
     ]
    }
   ],
   "source": [
    "D = dummy_data(data, todummy_list)\n",
    "print (D.head(5))"
   ]
  },
  {
   "cell_type": "code",
   "execution_count": 18,
   "metadata": {},
   "outputs": [
    {
     "data": {
      "text/plain": [
       "symboling                  0\n",
       "normalized.losses          0\n",
       "make                       0\n",
       "body.style                 0\n",
       "engine.location            0\n",
       "wheel.base                 0\n",
       "length                     0\n",
       "width                      0\n",
       "height                     0\n",
       "curb.weight                0\n",
       "engine.size                0\n",
       "bore                       0\n",
       "stroke                     0\n",
       "compression.ratio          0\n",
       "horsepower                 0\n",
       "peak.rpm                   0\n",
       "city.mpg                   0\n",
       "highway.mpg                0\n",
       "Car_Price                  0\n",
       "fuel.type_diesel           0\n",
       "fuel.type_gas              0\n",
       "aspiration_std             0\n",
       "aspiration_turbo           0\n",
       "num.of.doors_four          0\n",
       "num.of.doors_two           0\n",
       "drive.wheels_4wd           0\n",
       "drive.wheels_fwd           0\n",
       "drive.wheels_rwd           0\n",
       "engine.type_dohc           0\n",
       "engine.type_dohcv          0\n",
       "engine.type_l              0\n",
       "engine.type_ohc            0\n",
       "engine.type_ohcf           0\n",
       "engine.type_ohcv           0\n",
       "engine.type_rotor          0\n",
       "num.of.cylinders_eight     0\n",
       "num.of.cylinders_five      0\n",
       "num.of.cylinders_four      0\n",
       "num.of.cylinders_six       0\n",
       "num.of.cylinders_three     0\n",
       "num.of.cylinders_twelve    0\n",
       "num.of.cylinders_two       0\n",
       "fuel.system_1bbl           0\n",
       "fuel.system_2bbl           0\n",
       "fuel.system_4bbl           0\n",
       "fuel.system_idi            0\n",
       "fuel.system_mfi            0\n",
       "fuel.system_mpfi           0\n",
       "fuel.system_spdi           0\n",
       "fuel.system_spfi           0\n",
       "dtype: int64"
      ]
     },
     "execution_count": 18,
     "metadata": {},
     "output_type": "execute_result"
    }
   ],
   "source": [
    "D.isnull().sum()"
   ]
  },
  {
   "cell_type": "code",
   "execution_count": 19,
   "metadata": {
    "collapsed": true
   },
   "outputs": [],
   "source": [
    "# Function to find outliers\n",
    "def find_outliers_turkey(x):\n",
    "    q1 = np.percentile(x, 25)\n",
    "    q3 = np.percentile(x, 75)\n",
    "    iqr = q3-q1\n",
    "    floor = q1 - 1.5*iqr\n",
    "    ceiling = q3 + 1.5*iqr\n",
    "    outlier_indices = list(x.index[(x < floor)|(x > ceiling)])\n",
    "    outlier_values = list(x[outlier_indices])\n",
    "    return outlier_indices, outlier_values"
   ]
  },
  {
   "cell_type": "code",
   "execution_count": 20,
   "metadata": {},
   "outputs": [
    {
     "name": "stdout",
     "output_type": "stream",
     "text": [
      "[ 256.]\n"
     ]
    }
   ],
   "source": [
    "# To find outlier in normalized.losses column\n",
    "turkey_indices, turkey_values = find_outliers_turkey(data['normalized.losses'])\n",
    "print(np.sort(turkey_values))"
   ]
  },
  {
   "cell_type": "code",
   "execution_count": 21,
   "metadata": {
    "collapsed": true
   },
   "outputs": [],
   "source": [
    "#Function to plot histogram\n",
    "%matplotlib inline \n",
    "import matplotlib.pyplot as plt\n",
    "\n",
    "def plot_histogram(x):\n",
    "    plt.hist(x, color='grey', alpha=0.5)\n",
    "    plt.title(\"Histogram of '{var_name}'\".format(var_name=x.name))\n",
    "    plt.xlabel(\"value\")\n",
    "    plt.ylabel(\"Frequency\")\n",
    "    plt.show()"
   ]
  },
  {
   "cell_type": "code",
   "execution_count": 22,
   "metadata": {},
   "outputs": [
    {
     "data": {
      "image/png": "[encoded data removed]",
      "text/plain": [
       "<matplotlib.figure.Figure at 0x9f5b378c88>"
      ]
     },
     "metadata": {},
     "output_type": "display_data"
    }
   ],
   "source": [
    "plot_histogram(data['normalized.losses'])"
   ]
  },
  {
   "cell_type": "code",
   "execution_count": 23,
   "metadata": {},
   "outputs": [
    {
     "data": {
      "image/png": "[encoded data removed]",
      "text/plain": [
       "<matplotlib.figure.Figure at 0x9f52b5cc18>"
      ]
     },
     "metadata": {},
     "output_type": "display_data"
    }
   ],
   "source": [
    "plot_histogram(data['make'])"
   ]
  },
  {
   "cell_type": "code",
   "execution_count": 24,
   "metadata": {},
   "outputs": [
    {
     "data": {
      "image/png": "[encoded data removed]",
      "text/plain": [
       "<matplotlib.figure.Figure at 0x9f55cca828>"
      ]
     },
     "metadata": {},
     "output_type": "display_data"
    }
   ],
   "source": [
    "plot_histogram(data['num.of.doors'])"
   ]
  },
  {
   "cell_type": "code",
   "execution_count": 25,
   "metadata": {},
   "outputs": [
    {
     "data": {
      "text/plain": [
       "0    10595.0\n",
       "1     8189.0\n",
       "2    13645.0\n",
       "3    17199.0\n",
       "4    12945.0\n",
       "Name: Car_Price, dtype: float64"
      ]
     },
     "execution_count": 25,
     "metadata": {},
     "output_type": "execute_result"
    }
   ],
   "source": [
    "y = D['Car_Price']\n",
    "y.head()"
   ]
  },
  {
   "cell_type": "code",
   "execution_count": 26,
   "metadata": {},
   "outputs": [
    {
     "data": {
      "text/html": [
       "<div>\n",
       "<style scoped>\n",
       "    .dataframe tbody tr th:only-of-type {\n",
       "        vertical-align: middle;\n",
       "    }\n",
       "\n",
       "    .dataframe tbody tr th {\n",
       "        vertical-align: top;\n",
       "    }\n",
       "\n",
       "    .dataframe thead th {\n",
       "        text-align: right;\n",
       "    }\n",
       "</style>\n",
       "<table border=\"1\" class=\"dataframe\">\n",
       "  <thead>\n",
       "    <tr style=\"text-align: right;\">\n",
       "      <th></th>\n",
       "      <th>curb.weight</th>\n",
       "      <th>engine.size</th>\n",
       "      <th>bore</th>\n",
       "      <th>stroke</th>\n",
       "      <th>horsepower</th>\n",
       "      <th>peak.rpm</th>\n",
       "    </tr>\n",
       "  </thead>\n",
       "  <tbody>\n",
       "    <tr>\n",
       "      <th>0</th>\n",
       "      <td>2385</td>\n",
       "      <td>122</td>\n",
       "      <td>3.39</td>\n",
       "      <td>3.39</td>\n",
       "      <td>84.0</td>\n",
       "      <td>4800.0</td>\n",
       "    </tr>\n",
       "    <tr>\n",
       "      <th>1</th>\n",
       "      <td>2405</td>\n",
       "      <td>122</td>\n",
       "      <td>3.35</td>\n",
       "      <td>3.46</td>\n",
       "      <td>88.0</td>\n",
       "      <td>5000.0</td>\n",
       "    </tr>\n",
       "    <tr>\n",
       "      <th>2</th>\n",
       "      <td>2385</td>\n",
       "      <td>70</td>\n",
       "      <td>3.43</td>\n",
       "      <td>3.27</td>\n",
       "      <td>101.0</td>\n",
       "      <td>6000.0</td>\n",
       "    </tr>\n",
       "    <tr>\n",
       "      <th>3</th>\n",
       "      <td>3071</td>\n",
       "      <td>181</td>\n",
       "      <td>3.43</td>\n",
       "      <td>3.27</td>\n",
       "      <td>160.0</td>\n",
       "      <td>5200.0</td>\n",
       "    </tr>\n",
       "    <tr>\n",
       "      <th>4</th>\n",
       "      <td>2465</td>\n",
       "      <td>110</td>\n",
       "      <td>3.15</td>\n",
       "      <td>3.58</td>\n",
       "      <td>101.0</td>\n",
       "      <td>5800.0</td>\n",
       "    </tr>\n",
       "  </tbody>\n",
       "</table>\n",
       "</div>"
      ],
      "text/plain": [
       "   curb.weight  engine.size  bore  stroke  horsepower  peak.rpm\n",
       "0         2385          122  3.39    3.39        84.0    4800.0\n",
       "1         2405          122  3.35    3.46        88.0    5000.0\n",
       "2         2385           70  3.43    3.27       101.0    6000.0\n",
       "3         3071          181  3.43    3.27       160.0    5200.0\n",
       "4         2465          110  3.15    3.58       101.0    5800.0"
      ]
     },
     "execution_count": 26,
     "metadata": {},
     "output_type": "execute_result"
    }
   ],
   "source": [
    "#separate features and the output column before feeding into the model\n",
    "\n",
    "D=D.drop('Car_Price',1)\n",
    "D=D.drop('make',1)\n",
    "D=D.drop('body.style',1)\n",
    "D=D.drop('engine.location',1)\n",
    "D=D.drop('city.mpg',1)\n",
    "D=D.drop('highway.mpg',1)\n",
    "D=D.drop('wheel.base',1)\n",
    "D=D.drop('length',1)\n",
    "D=D.drop('width',1)\n",
    "D=D.drop('height',1)\n",
    "D=D.drop('compression.ratio',1)\n",
    "D=D.drop('engine.type_dohcv',1)\n",
    "D=D.drop('num.of.cylinders_three',1)\n",
    "D=D.drop('num.of.cylinders_twelve',1)\n",
    "D=D.drop('fuel.system_4bbl',1)\n",
    "D=D.drop('fuel.system_mfi',1)\n",
    "D=D.drop('fuel.system_spfi',1)\n",
    "D=D.drop('symboling',1)\n",
    "D=D.drop('normalized.losses',1)\n",
    "D=D.drop('num.of.doors_four',1)\n",
    "D=D.drop('num.of.doors_two',1)\n",
    "D=D.drop('drive.wheels_4wd',1)\n",
    "D=D.drop('aspiration_std',1)\n",
    "D=D.drop('aspiration_turbo',1)\n",
    "D=D.drop('fuel.type_diesel',1)\n",
    "D=D.drop('fuel.type_gas',1)\n",
    "D=D.drop('num.of.cylinders_eight',1)\n",
    "D=D.drop('num.of.cylinders_five',1)\n",
    "D=D.drop('num.of.cylinders_four',1)\n",
    "D=D.drop('num.of.cylinders_six',1)\n",
    "D=D.drop('num.of.cylinders_two',1)\n",
    "D=D.drop('engine.type_dohc',1)\n",
    "D=D.drop('engine.type_l',1)\n",
    "D=D.drop('engine.type_ohc',1)\n",
    "D=D.drop('engine.type_ohcf',1)\n",
    "D=D.drop('engine.type_ohcv',1)\n",
    "D=D.drop('engine.type_rotor',1)\n",
    "D=D.drop('fuel.system_1bbl',1)\n",
    "D=D.drop('fuel.system_2bbl',1)\n",
    "D=D.drop('fuel.system_idi',1)\n",
    "D=D.drop('fuel.system_mpfi',1)\n",
    "D=D.drop('fuel.system_spdi',1)\n",
    "#D=D.drop('engine.size',1)\n",
    "D=D.drop('drive.wheels_fwd',1)\n",
    "D=D.drop('drive.wheels_rwd',1)\n",
    "D.head()"
   ]
  },
  {
   "cell_type": "code",
   "execution_count": 27,
   "metadata": {},
   "outputs": [
    {
     "name": "stderr",
     "output_type": "stream",
     "text": [
      "C:\\Users\\Humza\\AppData\\Roaming\\Python\\Python36\\site-packages\\sklearn\\cross_validation.py:41: DeprecationWarning: This module was deprecated in version 0.18 in favor of the model_selection module into which all the refactored classes and functions are moved. Also note that the interface of the new CV iterators are different from that of this module. This module will be removed in 0.20.\n",
      "  \"This module will be removed in 0.20.\", DeprecationWarning)\n"
     ]
    }
   ],
   "source": [
    "from sklearn.cross_validation import train_test_split\n",
    "X_train, X_test, y_train, y_test = train_test_split(D, y, train_size=0.70, random_state=1)"
   ]
  },
  {
   "cell_type": "code",
   "execution_count": 28,
   "metadata": {},
   "outputs": [
    {
     "name": "stdout",
     "output_type": "stream",
     "text": [
      "Coefficients: \n",
      " [    4.8543983     94.57971683   940.57928829 -1818.29519834    29.2892431\n",
      "     2.13176555]\n"
     ]
    }
   ],
   "source": [
    "from sklearn.linear_model import LinearRegression\n",
    "lm = LinearRegression()\n",
    "lm.fit(X_train,y_train)\n",
    "print('Coefficients: \\n',lm.coef_)"
   ]
  },
  {
   "cell_type": "code",
   "execution_count": 29,
   "metadata": {},
   "outputs": [],
   "source": [
    "predictions = lm.predict(X_test)"
   ]
  },
  {
   "cell_type": "code",
   "execution_count": 30,
   "metadata": {},
   "outputs": [
    {
     "data": {
      "image/png": "[encoded data removed]",
      "text/plain": [
       "<matplotlib.figure.Figure at 0x9f5c999048>"
      ]
     },
     "metadata": {},
     "output_type": "display_data"
    }
   ],
   "source": [
    "fig, ax = plt.subplots()\n",
    "ax.scatter(y_test, predictions, edgecolors=(0, 0, 0))\n",
    "ax.plot([y_test.min(), y_test.max()], [y_test.min(), y_test.max()], 'k--', lw=4)\n",
    "ax.set_xlabel('Y_Test')\n",
    "ax.set_ylabel('Predictions')\n",
    "plt.show()"
   ]
  },
  {
   "cell_type": "code",
   "execution_count": 31,
   "metadata": {
    "collapsed": true
   },
   "outputs": [],
   "source": [
    "from sklearn import metrics"
   ]
  },
  {
   "cell_type": "code",
   "execution_count": 32,
   "metadata": {},
   "outputs": [
    {
     "name": "stdout",
     "output_type": "stream",
     "text": [
      "MSE:  13972256.7791\n"
     ]
    }
   ],
   "source": [
    "print('MSE: ',metrics.mean_squared_error(y_test,predictions))"
   ]
  },
  {
   "cell_type": "code",
   "execution_count": 33,
   "metadata": {},
   "outputs": [
    {
     "name": "stdout",
     "output_type": "stream",
     "text": [
      "RMSE:  3737.94820445\n"
     ]
    }
   ],
   "source": [
    "print('RMSE: ',np.sqrt(metrics.mean_squared_error(y_test,predictions)))"
   ]
  },
  {
   "cell_type": "code",
   "execution_count": 34,
   "metadata": {},
   "outputs": [
    {
     "name": "stdout",
     "output_type": "stream",
     "text": [
      "R2: 0.71442759209\n"
     ]
    }
   ],
   "source": [
    "print('R2:',metrics.r2_score(y_test, predictions))"
   ]
  },
  {
   "cell_type": "code",
   "execution_count": 35,
   "metadata": {
    "collapsed": true
   },
   "outputs": [],
   "source": [
    "def adj_r2(model, y, yhat):\n",
    "    return(1 - float(len(y)-1)/(len(y)-len(model.coef_)-1)*(1 - metrics.r2_score(y,yhat)))"
   ]
  },
  {
   "cell_type": "code",
   "execution_count": 36,
   "metadata": {},
   "outputs": [
    {
     "name": "stdout",
     "output_type": "stream",
     "text": [
      "Adj-R2: 0.673631533817\n"
     ]
    }
   ],
   "source": [
    "print('Adj-R2:', adj_r2(lm, y_test, predictions))"
   ]
  },
  {
   "cell_type": "code",
   "execution_count": 37,
   "metadata": {},
   "outputs": [
    {
     "data": {
      "text/plain": [
       "<matplotlib.axes._subplots.AxesSubplot at 0x9f5ea44f28>"
      ]
     },
     "execution_count": 37,
     "metadata": {},
     "output_type": "execute_result"
    },
    {
     "data": {
      "image/png": "[encoded data removed]",
      "text/plain": [
       "<matplotlib.figure.Figure at 0x9f5c99f908>"
      ]
     },
     "metadata": {},
     "output_type": "display_data"
    }
   ],
   "source": [
    "import seaborn as sns\n",
    "sns.distplot((y_test-predictions),bins=50)"
   ]
  },
  {
   "cell_type": "code",
   "execution_count": 38,
   "metadata": {},
   "outputs": [
    {
     "data": {
      "text/html": [
       "<div>\n",
       "<style scoped>\n",
       "    .dataframe tbody tr th:only-of-type {\n",
       "        vertical-align: middle;\n",
       "    }\n",
       "\n",
       "    .dataframe tbody tr th {\n",
       "        vertical-align: top;\n",
       "    }\n",
       "\n",
       "    .dataframe thead th {\n",
       "        text-align: right;\n",
       "    }\n",
       "</style>\n",
       "<table border=\"1\" class=\"dataframe\">\n",
       "  <thead>\n",
       "    <tr style=\"text-align: right;\">\n",
       "      <th></th>\n",
       "      <th>Coefficients</th>\n",
       "    </tr>\n",
       "  </thead>\n",
       "  <tbody>\n",
       "    <tr>\n",
       "      <th>curb.weight</th>\n",
       "      <td>4.854398</td>\n",
       "    </tr>\n",
       "    <tr>\n",
       "      <th>engine.size</th>\n",
       "      <td>94.579717</td>\n",
       "    </tr>\n",
       "    <tr>\n",
       "      <th>bore</th>\n",
       "      <td>940.579288</td>\n",
       "    </tr>\n",
       "    <tr>\n",
       "      <th>stroke</th>\n",
       "      <td>-1818.295198</td>\n",
       "    </tr>\n",
       "    <tr>\n",
       "      <th>horsepower</th>\n",
       "      <td>29.289243</td>\n",
       "    </tr>\n",
       "    <tr>\n",
       "      <th>peak.rpm</th>\n",
       "      <td>2.131766</td>\n",
       "    </tr>\n",
       "  </tbody>\n",
       "</table>\n",
       "</div>"
      ],
      "text/plain": [
       "             Coefficients\n",
       "curb.weight      4.854398\n",
       "engine.size     94.579717\n",
       "bore           940.579288\n",
       "stroke       -1818.295198\n",
       "horsepower      29.289243\n",
       "peak.rpm         2.131766"
      ]
     },
     "execution_count": 38,
     "metadata": {},
     "output_type": "execute_result"
    }
   ],
   "source": [
    "coefficients = pd.DataFrame(lm.coef_,D.columns)\n",
    "coefficients.columns = ['Coefficients']\n",
    "coefficients"
   ]
  },
  {
   "cell_type": "code",
   "execution_count": 39,
   "metadata": {},
   "outputs": [
    {
     "name": "stdout",
     "output_type": "stream",
     "text": [
      "0.71442759209\n"
     ]
    }
   ],
   "source": [
    "#Training Accuracy\n",
    "print(lm.score(X_test, y_test))"
   ]
  },
  {
   "cell_type": "code",
   "execution_count": 40,
   "metadata": {
    "collapsed": true
   },
   "outputs": [],
   "source": [
    "# Loading data -cars_test.csv"
   ]
  },
  {
   "cell_type": "code",
   "execution_count": 41,
   "metadata": {
    "collapsed": true
   },
   "outputs": [],
   "source": [
    "data1=pd.read_csv(\"cars_test.csv\")"
   ]
  },
  {
   "cell_type": "code",
   "execution_count": 42,
   "metadata": {},
   "outputs": [
    {
     "name": "stdout",
     "output_type": "stream",
     "text": [
      "    symboling  normalized.losses           make fuel.type aspiration  \\\n",
      "0           3                NaN    alfa-romero       gas        std   \n",
      "1           2              164.0           audi       gas        std   \n",
      "2           2                NaN           audi       gas        std   \n",
      "3           1                NaN           audi       gas        std   \n",
      "4           1              158.0           audi       gas      turbo   \n",
      "5           2              192.0            bmw       gas        std   \n",
      "6           0                NaN            bmw       gas        std   \n",
      "7           1              118.0          dodge       gas        std   \n",
      "8           1              118.0          dodge       gas        std   \n",
      "9           1              118.0          dodge       gas      turbo   \n",
      "10          1              148.0          dodge       gas        std   \n",
      "11          1              148.0          dodge       gas      turbo   \n",
      "12         -1              110.0          dodge       gas        std   \n",
      "13          0               85.0          honda       gas        std   \n",
      "14          1                NaN          isuzu       gas        std   \n",
      "15          1              104.0          mazda       gas        std   \n",
      "16          3              150.0          mazda       gas        std   \n",
      "17          1              129.0          mazda       gas        std   \n",
      "18          0              115.0          mazda       gas        std   \n",
      "19          0              115.0          mazda       gas        std   \n",
      "20         -1               93.0  mercedes-benz    diesel      turbo   \n",
      "21         -1                NaN  mercedes-benz       gas        std   \n",
      "22          1                NaN  mercedes-benz       gas        std   \n",
      "23          1                NaN        mercury       gas      turbo   \n",
      "24          3                NaN     mitsubishi       gas      turbo   \n",
      "25          1              125.0     mitsubishi       gas      turbo   \n",
      "26          1              128.0         nissan       gas        std   \n",
      "27          2              168.0         nissan       gas        std   \n",
      "28          0              106.0         nissan       gas        std   \n",
      "29          1              231.0         nissan       gas        std   \n",
      "30          0              161.0         peugot    diesel      turbo   \n",
      "31          0                NaN         peugot       gas        std   \n",
      "32          1              154.0       plymouth       gas        std   \n",
      "33          1              154.0       plymouth       gas        std   \n",
      "34         -1               74.0       plymouth       gas        std   \n",
      "35          2              104.0           saab       gas        std   \n",
      "36          0               85.0         subaru       gas        std   \n",
      "37          0               85.0         subaru       gas      turbo   \n",
      "38          1               87.0         toyota       gas        std   \n",
      "39          0               81.0         toyota       gas        std   \n",
      "40          0               91.0         toyota    diesel        std   \n",
      "41          0               91.0         toyota       gas        std   \n",
      "42          2              134.0         toyota       gas        std   \n",
      "43         -1               65.0         toyota    diesel      turbo   \n",
      "44          2               94.0     volkswagen       gas        std   \n",
      "45          2               94.0     volkswagen    diesel      turbo   \n",
      "46          2               94.0     volkswagen       gas        std   \n",
      "47          0                NaN     volkswagen    diesel      turbo   \n",
      "48          0                NaN     volkswagen       gas        std   \n",
      "49         -1               74.0          volvo       gas        std   \n",
      "50         -1               95.0          volvo       gas        std   \n",
      "51         -1               95.0          volvo       gas      turbo   \n",
      "\n",
      "   num.of.doors   body.style drive.wheels engine.location  wheel.base  \\\n",
      "0           two  convertible          rwd           front        88.6   \n",
      "1          four        sedan          4wd             NaN        99.4   \n",
      "2           two        sedan          fwd           front        99.8   \n",
      "3          four        wagon          fwd           front       105.8   \n",
      "4          four        sedan          fwd           front       105.8   \n",
      "5           two        sedan          rwd           front       101.2   \n",
      "6          four        sedan          rwd           front       110.0   \n",
      "7           two    hatchback          fwd           front        93.7   \n",
      "8           two    hatchback          fwd           front        93.7   \n",
      "9           two    hatchback          fwd           front        93.7   \n",
      "10         four        sedan          fwd             NaN        93.7   \n",
      "11          NaN        sedan          fwd           front        93.7   \n",
      "12         four        wagon          fwd           front       103.3   \n",
      "13         four        sedan          fwd           front        96.5   \n",
      "14          two        sedan          fwd           front        94.5   \n",
      "15          two    hatchback          fwd           front        93.1   \n",
      "16          two    hatchback          rwd           front        95.3   \n",
      "17          NaN    hatchback          fwd           front        98.8   \n",
      "18          NaN        sedan          fwd           front        98.8   \n",
      "19         four        sedan          fwd             NaN        98.8   \n",
      "20         four        wagon          rwd           front       110.0   \n",
      "21         four        sedan          rwd           front       115.6   \n",
      "22          two      hardtop          rwd             NaN       112.0   \n",
      "23          two    hatchback          rwd           front       102.7   \n",
      "24          two    hatchback          fwd           front        95.9   \n",
      "25         four        sedan          fwd           front        96.3   \n",
      "26          two    hatchback          fwd           front        94.5   \n",
      "27          two      hardtop          fwd           front        95.1   \n",
      "28         four        sedan          fwd           front        97.2   \n",
      "29          two    hatchback          rwd           front        99.2   \n",
      "30          NaN        sedan          rwd           front       107.9   \n",
      "31         four        wagon          rwd           front       114.2   \n",
      "32         four    hatchback          fwd           front        93.7   \n",
      "33         four        sedan          fwd           front        93.7   \n",
      "34         four        wagon          fwd           front       103.3   \n",
      "35         four        sedan          fwd           front        99.1   \n",
      "36         four        wagon          4wd           front        96.9   \n",
      "37         four        wagon          4wd           front        96.9   \n",
      "38          two    hatchback          fwd           front        95.7   \n",
      "39         four        wagon          4wd           front        95.7   \n",
      "40         four    hatchback          fwd           front        95.7   \n",
      "41         four        sedan          fwd           front        95.7   \n",
      "42          two    hatchback          rwd           front        98.4   \n",
      "43         four        sedan          fwd           front       102.4   \n",
      "44         four        sedan          fwd           front        97.3   \n",
      "45         four        sedan          fwd           front        97.3   \n",
      "46         four        sedan          fwd           front        97.3   \n",
      "47         four        sedan          fwd           front       100.4   \n",
      "48          NaN        wagon          fwd           front       100.4   \n",
      "49         four        wagon          rwd           front       104.3   \n",
      "50         four        sedan          rwd           front       109.1   \n",
      "51         four        sedan          rwd           front       109.1   \n",
      "\n",
      "      ...      engine.size  fuel.system  bore  stroke compression.ratio  \\\n",
      "0     ...              130         mpfi  3.47    2.68              9.00   \n",
      "1     ...              136         mpfi  3.19    3.40              8.00   \n",
      "2     ...              136         mpfi  3.19    3.40              8.50   \n",
      "3     ...              136         mpfi  3.19    3.40              8.50   \n",
      "4     ...              131         mpfi  3.13    3.40              8.30   \n",
      "5     ...              108         mpfi  3.50    2.80              8.80   \n",
      "6     ...              209         mpfi  3.62    3.39              8.00   \n",
      "7     ...               90         2bbl  2.97    3.23              9.41   \n",
      "8     ...               90         2bbl  2.97    3.23              9.40   \n",
      "9     ...               98         mpfi  3.03    3.39              7.60   \n",
      "10    ...               90         2bbl  2.97    3.23              9.40   \n",
      "11    ...               98         mpfi  3.03    3.39              7.60   \n",
      "12    ...              122         2bbl  3.34    3.46              8.50   \n",
      "13    ...              110         1bbl  3.15    3.58              9.00   \n",
      "14    ...               90         2bbl  3.03    3.11              9.60   \n",
      "15    ...               91         2bbl  3.03    3.15              9.00   \n",
      "16    ...               80         mpfi   NaN     NaN              9.40   \n",
      "17    ...              122         2bbl  3.39    3.39              8.60   \n",
      "18    ...              122         2bbl  3.39    3.39              8.60   \n",
      "19    ...              122         2bbl  3.39    3.39              8.60   \n",
      "20    ...              183          idi  3.58    3.64             21.50   \n",
      "21    ...              234         mpfi  3.46    3.10              8.30   \n",
      "22    ...              304         mpfi  3.80    3.35              8.00   \n",
      "23    ...              140         mpfi  3.78    3.12              8.00   \n",
      "24    ...              156         spdi  3.59    3.86              7.00   \n",
      "25    ...              110         spdi  3.17    3.46              7.50   \n",
      "26    ...               97         2bbl  3.15    3.29              9.40   \n",
      "27    ...               97         2bbl  3.15    3.29              9.40   \n",
      "28    ...              120         2bbl  3.33    3.47              8.50   \n",
      "29    ...              181         mpfi  3.43    3.27              9.00   \n",
      "30    ...              152          idi  3.70    3.52             21.00   \n",
      "31    ...              120         mpfi  3.46    3.19              8.40   \n",
      "32    ...               90         2bbl  2.97    3.23              9.40   \n",
      "33    ...               90         2bbl  2.97    3.23              9.40   \n",
      "34    ...              122         2bbl  3.35    3.46              8.50   \n",
      "35    ...              121         mpfi  3.54    3.07              9.30   \n",
      "36    ...              108         2bbl  3.62    2.64              9.00   \n",
      "37    ...              108         mpfi  3.62    2.64              7.70   \n",
      "38    ...               92         2bbl  3.05    3.03              9.00   \n",
      "39    ...               92         2bbl  3.05    3.03              9.00   \n",
      "40    ...              110          idi  3.27    3.35             22.50   \n",
      "41    ...               98         2bbl  3.19    3.03              9.00   \n",
      "42    ...              146         mpfi  3.62    3.50              9.30   \n",
      "43    ...              110          idi  3.27    3.35             22.50   \n",
      "44    ...              109         mpfi  3.19    3.40              9.00   \n",
      "45    ...               97          idi  3.01    3.40             23.00   \n",
      "46    ...              109         mpfi  3.19    3.40             10.00   \n",
      "47    ...               97          idi  3.01    3.40             23.00   \n",
      "48    ...              109         mpfi  3.19    3.40              9.00   \n",
      "49    ...              141         mpfi  3.78    3.15              9.50   \n",
      "50    ...              141         mpfi  3.78    3.15              9.50   \n",
      "51    ...              141         mpfi  3.78    3.15              8.70   \n",
      "\n",
      "   horsepower  peak.rpm city.mpg  highway.mpg  Car_Price  \n",
      "0         111      5000       21           27        NaN  \n",
      "1         115      5500       18           22        NaN  \n",
      "2         110      5500       19           25        NaN  \n",
      "3         110      5500       19           25        NaN  \n",
      "4         140      5500       17           20        NaN  \n",
      "5         101      5800       23           29        NaN  \n",
      "6         182      5400       15           20        NaN  \n",
      "7          68      5500       37           41        NaN  \n",
      "8          68      5500       31           38        NaN  \n",
      "9         102      5500       24           30        NaN  \n",
      "10         68      5500       31           38        NaN  \n",
      "11        102      5500       24           30        NaN  \n",
      "12         88      5000       24           30        NaN  \n",
      "13         86      5800       27           33        NaN  \n",
      "14         70      5400       38           43        NaN  \n",
      "15         68      5000       30           31        NaN  \n",
      "16        135      6000       16           23        NaN  \n",
      "17         84      4800       26           32        NaN  \n",
      "18         84      4800       26           32        NaN  \n",
      "19         84      4800       26           32        NaN  \n",
      "20        123      4350       22           25        NaN  \n",
      "21        155      4750       16           18        NaN  \n",
      "22        184      4500       14           16        NaN  \n",
      "23        175      5000       19           24        NaN  \n",
      "24        145      5000       19           24        NaN  \n",
      "25        116      5500       23           30        NaN  \n",
      "26         69      5200       31           37        NaN  \n",
      "27         69      5200       31           37        NaN  \n",
      "28         97      5200       27           34        NaN  \n",
      "29        160      5200       19           25        NaN  \n",
      "30         95      4150       28           33        NaN  \n",
      "31         97      5000       19           24        NaN  \n",
      "32         68      5500       31           38        NaN  \n",
      "33         68      5500       31           38        NaN  \n",
      "34         88      5000       24           30        NaN  \n",
      "35        110      5250       21           28        NaN  \n",
      "36         82      4800       23           29        NaN  \n",
      "37        111      4800       23           23        NaN  \n",
      "38         62      4800       35           39        NaN  \n",
      "39         62      4800       27           32        NaN  \n",
      "40         56      4500       38           47        NaN  \n",
      "41         70      4800       28           34        NaN  \n",
      "42        116      4800       24           30        NaN  \n",
      "43         73      4500       30           33        NaN  \n",
      "44         85      5250       27           34        NaN  \n",
      "45         68      4500       37           42        NaN  \n",
      "46        100      5500       26           32        NaN  \n",
      "47         68      4500       33           38        NaN  \n",
      "48         88      5500       25           31        NaN  \n",
      "49        114      5400       23           28        NaN  \n",
      "50        114      5400       23           28        NaN  \n",
      "51        160      5300       19           25        NaN  \n",
      "\n",
      "[52 rows x 26 columns]\n"
     ]
    }
   ],
   "source": [
    "null_data1 = data1[data1.isnull().any(axis=1)]\n",
    "print(null_data1)"
   ]
  },
  {
   "cell_type": "code",
   "execution_count": 43,
   "metadata": {},
   "outputs": [],
   "source": [
    "data1 = data1.fillna(method='bfill')\n"
   ]
  },
  {
   "cell_type": "code",
   "execution_count": 44,
   "metadata": {},
   "outputs": [
    {
     "name": "stdout",
     "output_type": "stream",
     "text": [
      "    symboling  normalized.losses           make fuel.type aspiration  \\\n",
      "0           3              164.0    alfa-romero       gas        std   \n",
      "1           2              164.0           audi       gas        std   \n",
      "2           2              158.0           audi       gas        std   \n",
      "3           1              158.0           audi       gas        std   \n",
      "4           1              158.0           audi       gas      turbo   \n",
      "5           2              192.0            bmw       gas        std   \n",
      "6           0              118.0            bmw       gas        std   \n",
      "7           1              118.0          dodge       gas        std   \n",
      "8           1              118.0          dodge       gas        std   \n",
      "9           1              118.0          dodge       gas      turbo   \n",
      "10          1              148.0          dodge       gas        std   \n",
      "11          1              148.0          dodge       gas      turbo   \n",
      "12         -1              110.0          dodge       gas        std   \n",
      "13          0               85.0          honda       gas        std   \n",
      "14          1              104.0          isuzu       gas        std   \n",
      "15          1              104.0          mazda       gas        std   \n",
      "16          3              150.0          mazda       gas        std   \n",
      "17          1              129.0          mazda       gas        std   \n",
      "18          0              115.0          mazda       gas        std   \n",
      "19          0              115.0          mazda       gas        std   \n",
      "20         -1               93.0  mercedes-benz    diesel      turbo   \n",
      "21         -1              125.0  mercedes-benz       gas        std   \n",
      "22          1              125.0  mercedes-benz       gas        std   \n",
      "23          1              125.0        mercury       gas      turbo   \n",
      "24          3              125.0     mitsubishi       gas      turbo   \n",
      "25          1              125.0     mitsubishi       gas      turbo   \n",
      "26          1              128.0         nissan       gas        std   \n",
      "27          2              168.0         nissan       gas        std   \n",
      "28          0              106.0         nissan       gas        std   \n",
      "29          1              231.0         nissan       gas        std   \n",
      "30          0              161.0         peugot    diesel      turbo   \n",
      "31          0              154.0         peugot       gas        std   \n",
      "32          1              154.0       plymouth       gas        std   \n",
      "33          1              154.0       plymouth       gas        std   \n",
      "34         -1               74.0       plymouth       gas        std   \n",
      "35          2              104.0           saab       gas        std   \n",
      "36          0               85.0         subaru       gas        std   \n",
      "37          0               85.0         subaru       gas      turbo   \n",
      "38          1               87.0         toyota       gas        std   \n",
      "39          0               81.0         toyota       gas        std   \n",
      "40          0               91.0         toyota    diesel        std   \n",
      "41          0               91.0         toyota       gas        std   \n",
      "42          2              134.0         toyota       gas        std   \n",
      "43         -1               65.0         toyota    diesel      turbo   \n",
      "44          2               94.0     volkswagen       gas        std   \n",
      "45          2               94.0     volkswagen    diesel      turbo   \n",
      "46          2               94.0     volkswagen       gas        std   \n",
      "47          0               74.0     volkswagen    diesel      turbo   \n",
      "48          0               74.0     volkswagen       gas        std   \n",
      "49         -1               74.0          volvo       gas        std   \n",
      "50         -1               95.0          volvo       gas        std   \n",
      "51         -1               95.0          volvo       gas      turbo   \n",
      "\n",
      "   num.of.doors   body.style drive.wheels engine.location  wheel.base  \\\n",
      "0           two  convertible          rwd           front        88.6   \n",
      "1          four        sedan          4wd           front        99.4   \n",
      "2           two        sedan          fwd           front        99.8   \n",
      "3          four        wagon          fwd           front       105.8   \n",
      "4          four        sedan          fwd           front       105.8   \n",
      "5           two        sedan          rwd           front       101.2   \n",
      "6          four        sedan          rwd           front       110.0   \n",
      "7           two    hatchback          fwd           front        93.7   \n",
      "8           two    hatchback          fwd           front        93.7   \n",
      "9           two    hatchback          fwd           front        93.7   \n",
      "10         four        sedan          fwd           front        93.7   \n",
      "11         four        sedan          fwd           front        93.7   \n",
      "12         four        wagon          fwd           front       103.3   \n",
      "13         four        sedan          fwd           front        96.5   \n",
      "14          two        sedan          fwd           front        94.5   \n",
      "15          two    hatchback          fwd           front        93.1   \n",
      "16          two    hatchback          rwd           front        95.3   \n",
      "17         four    hatchback          fwd           front        98.8   \n",
      "18         four        sedan          fwd           front        98.8   \n",
      "19         four        sedan          fwd           front        98.8   \n",
      "20         four        wagon          rwd           front       110.0   \n",
      "21         four        sedan          rwd           front       115.6   \n",
      "22          two      hardtop          rwd           front       112.0   \n",
      "23          two    hatchback          rwd           front       102.7   \n",
      "24          two    hatchback          fwd           front        95.9   \n",
      "25         four        sedan          fwd           front        96.3   \n",
      "26          two    hatchback          fwd           front        94.5   \n",
      "27          two      hardtop          fwd           front        95.1   \n",
      "28         four        sedan          fwd           front        97.2   \n",
      "29          two    hatchback          rwd           front        99.2   \n",
      "30         four        sedan          rwd           front       107.9   \n",
      "31         four        wagon          rwd           front       114.2   \n",
      "32         four    hatchback          fwd           front        93.7   \n",
      "33         four        sedan          fwd           front        93.7   \n",
      "34         four        wagon          fwd           front       103.3   \n",
      "35         four        sedan          fwd           front        99.1   \n",
      "36         four        wagon          4wd           front        96.9   \n",
      "37         four        wagon          4wd           front        96.9   \n",
      "38          two    hatchback          fwd           front        95.7   \n",
      "39         four        wagon          4wd           front        95.7   \n",
      "40         four    hatchback          fwd           front        95.7   \n",
      "41         four        sedan          fwd           front        95.7   \n",
      "42          two    hatchback          rwd           front        98.4   \n",
      "43         four        sedan          fwd           front       102.4   \n",
      "44         four        sedan          fwd           front        97.3   \n",
      "45         four        sedan          fwd           front        97.3   \n",
      "46         four        sedan          fwd           front        97.3   \n",
      "47         four        sedan          fwd           front       100.4   \n",
      "48         four        wagon          fwd           front       100.4   \n",
      "49         four        wagon          rwd           front       104.3   \n",
      "50         four        sedan          rwd           front       109.1   \n",
      "51         four        sedan          rwd           front       109.1   \n",
      "\n",
      "      ...      engine.size  fuel.system  bore  stroke compression.ratio  \\\n",
      "0     ...              130         mpfi  3.47    2.68              9.00   \n",
      "1     ...              136         mpfi  3.19    3.40              8.00   \n",
      "2     ...              136         mpfi  3.19    3.40              8.50   \n",
      "3     ...              136         mpfi  3.19    3.40              8.50   \n",
      "4     ...              131         mpfi  3.13    3.40              8.30   \n",
      "5     ...              108         mpfi  3.50    2.80              8.80   \n",
      "6     ...              209         mpfi  3.62    3.39              8.00   \n",
      "7     ...               90         2bbl  2.97    3.23              9.41   \n",
      "8     ...               90         2bbl  2.97    3.23              9.40   \n",
      "9     ...               98         mpfi  3.03    3.39              7.60   \n",
      "10    ...               90         2bbl  2.97    3.23              9.40   \n",
      "11    ...               98         mpfi  3.03    3.39              7.60   \n",
      "12    ...              122         2bbl  3.34    3.46              8.50   \n",
      "13    ...              110         1bbl  3.15    3.58              9.00   \n",
      "14    ...               90         2bbl  3.03    3.11              9.60   \n",
      "15    ...               91         2bbl  3.03    3.15              9.00   \n",
      "16    ...               80         mpfi  3.39    3.39              9.40   \n",
      "17    ...              122         2bbl  3.39    3.39              8.60   \n",
      "18    ...              122         2bbl  3.39    3.39              8.60   \n",
      "19    ...              122         2bbl  3.39    3.39              8.60   \n",
      "20    ...              183          idi  3.58    3.64             21.50   \n",
      "21    ...              234         mpfi  3.46    3.10              8.30   \n",
      "22    ...              304         mpfi  3.80    3.35              8.00   \n",
      "23    ...              140         mpfi  3.78    3.12              8.00   \n",
      "24    ...              156         spdi  3.59    3.86              7.00   \n",
      "25    ...              110         spdi  3.17    3.46              7.50   \n",
      "26    ...               97         2bbl  3.15    3.29              9.40   \n",
      "27    ...               97         2bbl  3.15    3.29              9.40   \n",
      "28    ...              120         2bbl  3.33    3.47              8.50   \n",
      "29    ...              181         mpfi  3.43    3.27              9.00   \n",
      "30    ...              152          idi  3.70    3.52             21.00   \n",
      "31    ...              120         mpfi  3.46    3.19              8.40   \n",
      "32    ...               90         2bbl  2.97    3.23              9.40   \n",
      "33    ...               90         2bbl  2.97    3.23              9.40   \n",
      "34    ...              122         2bbl  3.35    3.46              8.50   \n",
      "35    ...              121         mpfi  3.54    3.07              9.30   \n",
      "36    ...              108         2bbl  3.62    2.64              9.00   \n",
      "37    ...              108         mpfi  3.62    2.64              7.70   \n",
      "38    ...               92         2bbl  3.05    3.03              9.00   \n",
      "39    ...               92         2bbl  3.05    3.03              9.00   \n",
      "40    ...              110          idi  3.27    3.35             22.50   \n",
      "41    ...               98         2bbl  3.19    3.03              9.00   \n",
      "42    ...              146         mpfi  3.62    3.50              9.30   \n",
      "43    ...              110          idi  3.27    3.35             22.50   \n",
      "44    ...              109         mpfi  3.19    3.40              9.00   \n",
      "45    ...               97          idi  3.01    3.40             23.00   \n",
      "46    ...              109         mpfi  3.19    3.40             10.00   \n",
      "47    ...               97          idi  3.01    3.40             23.00   \n",
      "48    ...              109         mpfi  3.19    3.40              9.00   \n",
      "49    ...              141         mpfi  3.78    3.15              9.50   \n",
      "50    ...              141         mpfi  3.78    3.15              9.50   \n",
      "51    ...              141         mpfi  3.78    3.15              8.70   \n",
      "\n",
      "   horsepower  peak.rpm city.mpg  highway.mpg  Car_Price  \n",
      "0         111      5000       21           27        NaN  \n",
      "1         115      5500       18           22        NaN  \n",
      "2         110      5500       19           25        NaN  \n",
      "3         110      5500       19           25        NaN  \n",
      "4         140      5500       17           20        NaN  \n",
      "5         101      5800       23           29        NaN  \n",
      "6         182      5400       15           20        NaN  \n",
      "7          68      5500       37           41        NaN  \n",
      "8          68      5500       31           38        NaN  \n",
      "9         102      5500       24           30        NaN  \n",
      "10         68      5500       31           38        NaN  \n",
      "11        102      5500       24           30        NaN  \n",
      "12         88      5000       24           30        NaN  \n",
      "13         86      5800       27           33        NaN  \n",
      "14         70      5400       38           43        NaN  \n",
      "15         68      5000       30           31        NaN  \n",
      "16        135      6000       16           23        NaN  \n",
      "17         84      4800       26           32        NaN  \n",
      "18         84      4800       26           32        NaN  \n",
      "19         84      4800       26           32        NaN  \n",
      "20        123      4350       22           25        NaN  \n",
      "21        155      4750       16           18        NaN  \n",
      "22        184      4500       14           16        NaN  \n",
      "23        175      5000       19           24        NaN  \n",
      "24        145      5000       19           24        NaN  \n",
      "25        116      5500       23           30        NaN  \n",
      "26         69      5200       31           37        NaN  \n",
      "27         69      5200       31           37        NaN  \n",
      "28         97      5200       27           34        NaN  \n",
      "29        160      5200       19           25        NaN  \n",
      "30         95      4150       28           33        NaN  \n",
      "31         97      5000       19           24        NaN  \n",
      "32         68      5500       31           38        NaN  \n",
      "33         68      5500       31           38        NaN  \n",
      "34         88      5000       24           30        NaN  \n",
      "35        110      5250       21           28        NaN  \n",
      "36         82      4800       23           29        NaN  \n",
      "37        111      4800       23           23        NaN  \n",
      "38         62      4800       35           39        NaN  \n",
      "39         62      4800       27           32        NaN  \n",
      "40         56      4500       38           47        NaN  \n",
      "41         70      4800       28           34        NaN  \n",
      "42        116      4800       24           30        NaN  \n",
      "43         73      4500       30           33        NaN  \n",
      "44         85      5250       27           34        NaN  \n",
      "45         68      4500       37           42        NaN  \n",
      "46        100      5500       26           32        NaN  \n",
      "47         68      4500       33           38        NaN  \n",
      "48         88      5500       25           31        NaN  \n",
      "49        114      5400       23           28        NaN  \n",
      "50        114      5400       23           28        NaN  \n",
      "51        160      5300       19           25        NaN  \n",
      "\n",
      "[52 rows x 26 columns]\n"
     ]
    }
   ],
   "source": [
    "null_data1 = data1[data1.isnull().any(axis=1)]\n",
    "print(null_data1)"
   ]
  },
  {
   "cell_type": "code",
   "execution_count": 45,
   "metadata": {
    "collapsed": true
   },
   "outputs": [],
   "source": [
    "todummy_list1 = ['fuel.type', 'aspiration', 'num.of.doors', 'drive.wheels', 'engine.type', 'num.of.cylinders', 'fuel.system']"
   ]
  },
  {
   "cell_type": "code",
   "execution_count": 46,
   "metadata": {
    "collapsed": true
   },
   "outputs": [],
   "source": [
    "#Function to create dummy varibale as model can only be fed with numeric data\n",
    "def dummy_data(data1, todummy_list1):\n",
    "    for x in todummy_list1:\n",
    "        dummies = pd.get_dummies(data1[x], prefix=x, dummy_na = False)\n",
    "        data1 = data1.drop(x,1)\n",
    "        data1 = pd.concat([data1, dummies], axis=1)\n",
    "    return data1    "
   ]
  },
  {
   "cell_type": "code",
   "execution_count": 47,
   "metadata": {},
   "outputs": [
    {
     "name": "stdout",
     "output_type": "stream",
     "text": [
      "   symboling  normalized.losses         make   body.style engine.location  \\\n",
      "0          3              164.0  alfa-romero  convertible           front   \n",
      "1          2              164.0         audi        sedan           front   \n",
      "2          2              158.0         audi        sedan           front   \n",
      "3          1              158.0         audi        wagon           front   \n",
      "4          1              158.0         audi        sedan           front   \n",
      "\n",
      "   wheel.base  length  width  height  curb.weight        ...         \\\n",
      "0        88.6   168.8   64.1    48.8         2548        ...          \n",
      "1        99.4   176.6   66.4    54.3         2824        ...          \n",
      "2        99.8   177.3   66.3    53.1         2507        ...          \n",
      "3       105.8   192.7   71.4    55.7         2954        ...          \n",
      "4       105.8   192.7   71.4    55.9         3086        ...          \n",
      "\n",
      "   num.of.cylinders_eight  num.of.cylinders_five  num.of.cylinders_four  \\\n",
      "0                       0                      0                      1   \n",
      "1                       0                      1                      0   \n",
      "2                       0                      1                      0   \n",
      "3                       0                      1                      0   \n",
      "4                       0                      1                      0   \n",
      "\n",
      "   num.of.cylinders_six  num.of.cylinders_two  fuel.system_1bbl  \\\n",
      "0                     0                     0                 0   \n",
      "1                     0                     0                 0   \n",
      "2                     0                     0                 0   \n",
      "3                     0                     0                 0   \n",
      "4                     0                     0                 0   \n",
      "\n",
      "   fuel.system_2bbl  fuel.system_idi  fuel.system_mpfi  fuel.system_spdi  \n",
      "0                 0                0                 1                 0  \n",
      "1                 0                0                 1                 0  \n",
      "2                 0                0                 1                 0  \n",
      "3                 0                0                 1                 0  \n",
      "4                 0                0                 1                 0  \n",
      "\n",
      "[5 rows x 44 columns]\n"
     ]
    }
   ],
   "source": [
    "D1 = dummy_data(data1, todummy_list1)\n",
    "print (D1.head(5))"
   ]
  },
  {
   "cell_type": "code",
   "execution_count": 48,
   "metadata": {},
   "outputs": [
    {
     "data": {
      "text/plain": [
       "symboling                  0\n",
       "normalized.losses          0\n",
       "make                       0\n",
       "body.style                 0\n",
       "engine.location            0\n",
       "wheel.base                 0\n",
       "length                     0\n",
       "width                      0\n",
       "height                     0\n",
       "curb.weight                0\n",
       "engine.size                0\n",
       "bore                       0\n",
       "stroke                     0\n",
       "compression.ratio          0\n",
       "horsepower                 0\n",
       "peak.rpm                   0\n",
       "city.mpg                   0\n",
       "highway.mpg                0\n",
       "Car_Price                 52\n",
       "fuel.type_diesel           0\n",
       "fuel.type_gas              0\n",
       "aspiration_std             0\n",
       "aspiration_turbo           0\n",
       "num.of.doors_four          0\n",
       "num.of.doors_two           0\n",
       "drive.wheels_4wd           0\n",
       "drive.wheels_fwd           0\n",
       "drive.wheels_rwd           0\n",
       "engine.type_dohc           0\n",
       "engine.type_l              0\n",
       "engine.type_ohc            0\n",
       "engine.type_ohcf           0\n",
       "engine.type_ohcv           0\n",
       "engine.type_rotor          0\n",
       "num.of.cylinders_eight     0\n",
       "num.of.cylinders_five      0\n",
       "num.of.cylinders_four      0\n",
       "num.of.cylinders_six       0\n",
       "num.of.cylinders_two       0\n",
       "fuel.system_1bbl           0\n",
       "fuel.system_2bbl           0\n",
       "fuel.system_idi            0\n",
       "fuel.system_mpfi           0\n",
       "fuel.system_spdi           0\n",
       "dtype: int64"
      ]
     },
     "execution_count": 48,
     "metadata": {},
     "output_type": "execute_result"
    }
   ],
   "source": [
    "#To view NA values\n",
    "D1.isnull().sum()"
   ]
  },
  {
   "cell_type": "code",
   "execution_count": 49,
   "metadata": {},
   "outputs": [
    {
     "data": {
      "text/html": [
       "<div>\n",
       "<style scoped>\n",
       "    .dataframe tbody tr th:only-of-type {\n",
       "        vertical-align: middle;\n",
       "    }\n",
       "\n",
       "    .dataframe tbody tr th {\n",
       "        vertical-align: top;\n",
       "    }\n",
       "\n",
       "    .dataframe thead th {\n",
       "        text-align: right;\n",
       "    }\n",
       "</style>\n",
       "<table border=\"1\" class=\"dataframe\">\n",
       "  <thead>\n",
       "    <tr style=\"text-align: right;\">\n",
       "      <th></th>\n",
       "      <th>curb.weight</th>\n",
       "      <th>engine.size</th>\n",
       "      <th>bore</th>\n",
       "      <th>stroke</th>\n",
       "      <th>horsepower</th>\n",
       "      <th>peak.rpm</th>\n",
       "    </tr>\n",
       "  </thead>\n",
       "  <tbody>\n",
       "    <tr>\n",
       "      <th>0</th>\n",
       "      <td>2548</td>\n",
       "      <td>130</td>\n",
       "      <td>3.47</td>\n",
       "      <td>2.68</td>\n",
       "      <td>111</td>\n",
       "      <td>5000</td>\n",
       "    </tr>\n",
       "    <tr>\n",
       "      <th>1</th>\n",
       "      <td>2824</td>\n",
       "      <td>136</td>\n",
       "      <td>3.19</td>\n",
       "      <td>3.40</td>\n",
       "      <td>115</td>\n",
       "      <td>5500</td>\n",
       "    </tr>\n",
       "    <tr>\n",
       "      <th>2</th>\n",
       "      <td>2507</td>\n",
       "      <td>136</td>\n",
       "      <td>3.19</td>\n",
       "      <td>3.40</td>\n",
       "      <td>110</td>\n",
       "      <td>5500</td>\n",
       "    </tr>\n",
       "    <tr>\n",
       "      <th>3</th>\n",
       "      <td>2954</td>\n",
       "      <td>136</td>\n",
       "      <td>3.19</td>\n",
       "      <td>3.40</td>\n",
       "      <td>110</td>\n",
       "      <td>5500</td>\n",
       "    </tr>\n",
       "    <tr>\n",
       "      <th>4</th>\n",
       "      <td>3086</td>\n",
       "      <td>131</td>\n",
       "      <td>3.13</td>\n",
       "      <td>3.40</td>\n",
       "      <td>140</td>\n",
       "      <td>5500</td>\n",
       "    </tr>\n",
       "  </tbody>\n",
       "</table>\n",
       "</div>"
      ],
      "text/plain": [
       "   curb.weight  engine.size  bore  stroke  horsepower  peak.rpm\n",
       "0         2548          130  3.47    2.68         111      5000\n",
       "1         2824          136  3.19    3.40         115      5500\n",
       "2         2507          136  3.19    3.40         110      5500\n",
       "3         2954          136  3.19    3.40         110      5500\n",
       "4         3086          131  3.13    3.40         140      5500"
      ]
     },
     "execution_count": 49,
     "metadata": {},
     "output_type": "execute_result"
    }
   ],
   "source": [
    "\n",
    "#separate features and the output column before feeding into the model\n",
    "\n",
    "D1=D1.drop('Car_Price',1)\n",
    "D1=D1.drop('make',1)\n",
    "D1=D1.drop('body.style',1)\n",
    "D1=D1.drop('engine.location',1)\n",
    "D1=D1.drop('city.mpg',1)\n",
    "D1=D1.drop('highway.mpg',1)\n",
    "D1=D1.drop('wheel.base',1)\n",
    "D1=D1.drop('length',1)\n",
    "D1=D1.drop('width',1)\n",
    "D1=D1.drop('height',1)\n",
    "D1=D1.drop('compression.ratio',1)\n",
    "D1=D1.drop('symboling',1)\n",
    "D1=D1.drop('normalized.losses',1)\n",
    "D1=D1.drop('num.of.doors_four',1)\n",
    "D1=D1.drop('num.of.doors_two',1)\n",
    "D1=D1.drop('drive.wheels_4wd',1)\n",
    "D1=D1.drop('aspiration_std',1)\n",
    "D1=D1.drop('aspiration_turbo',1)\n",
    "D1=D1.drop('fuel.type_diesel',1)\n",
    "D1=D1.drop('fuel.type_gas',1)\n",
    "D1=D1.drop('num.of.cylinders_eight',1)\n",
    "D1=D1.drop('num.of.cylinders_five',1)\n",
    "D1=D1.drop('num.of.cylinders_four',1)\n",
    "D1=D1.drop('num.of.cylinders_six',1)\n",
    "D1=D1.drop('num.of.cylinders_two',1)\n",
    "D1=D1.drop('engine.type_dohc',1)\n",
    "D1=D1.drop('engine.type_l',1)\n",
    "D1=D1.drop('engine.type_ohc',1)\n",
    "D1=D1.drop('engine.type_ohcf',1)\n",
    "D1=D1.drop('engine.type_ohcv',1)\n",
    "D1=D1.drop('engine.type_rotor',1)\n",
    "D1=D1.drop('fuel.system_1bbl',1)\n",
    "D1=D1.drop('fuel.system_2bbl',1)\n",
    "D1=D1.drop('fuel.system_idi',1)\n",
    "D1=D1.drop('fuel.system_mpfi',1)\n",
    "D1=D1.drop('fuel.system_spdi',1)\n",
    "#D=D.drop('engine.size',1)\n",
    "D1=D1.drop('drive.wheels_fwd',1)\n",
    "D1=D1.drop('drive.wheels_rwd',1)\n",
    "D1.head()"
   ]
  },
  {
   "cell_type": "code",
   "execution_count": 50,
   "metadata": {},
   "outputs": [
    {
     "name": "stdout",
     "output_type": "stream",
     "text": [
      "(52,)\n"
     ]
    }
   ],
   "source": [
    "y1=data1['Car_Price']\n",
    "print(y1.shape)"
   ]
  },
  {
   "cell_type": "code",
   "execution_count": 51,
   "metadata": {},
   "outputs": [
    {
     "name": "stdout",
     "output_type": "stream",
     "text": [
      "(52, 6)\n"
     ]
    }
   ],
   "source": [
    "print(D1.shape)"
   ]
  },
  {
   "cell_type": "code",
   "execution_count": 52,
   "metadata": {},
   "outputs": [],
   "source": [
    "predictions1 = lm.predict(D1)"
   ]
  },
  {
   "cell_type": "code",
   "execution_count": 53,
   "metadata": {},
   "outputs": [
    {
     "name": "stdout",
     "output_type": "stream",
     "text": [
      "[ 14492.59263918  16010.38987692  14325.09939954  16495.01544071\n",
      "  17485.13996832  12891.65789487  28392.38922773   5783.34162669\n",
      "   5783.34162669   8524.6295246    6331.88863486   8830.45661765\n",
      "  11458.64957307  10782.3545154    5893.66494211   5081.89851647\n",
      "  10999.0671329   10361.28937301  10482.64933057  10482.64933057\n",
      "  22664.02802956  30098.02149763  36778.91153808  18561.72324366\n",
      "  17749.74328103  11408.9954996    6633.23432366   6536.14635762\n",
      "  10800.78288861  22936.21627811  16132.18756766  15510.70936565\n",
      "   6225.09187221   6331.88863486  11468.05536595  14215.32930614\n",
      "  10728.55342689  12694.45308646   5272.56451239   6753.15599462\n",
      "   7192.5827784    6958.46959541  14390.60923884   8685.65156316\n",
      "   9380.05417328   6192.64552736  10473.69416562   7454.78908597\n",
      "  11398.9300019   18269.76188583  17871.70122503  19476.70648787]\n"
     ]
    }
   ],
   "source": [
    "print(predictions1)"
   ]
  }
 ],
 "metadata": {
  "kernelspec": {
   "display_name": "Python 3",
   "language": "python",
   "name": "python3"
  },
  "language_info": {
   "codemirror_mode": {
    "name": "ipython",
    "version": 3
   },
   "file_extension": ".py",
   "mimetype": "text/x-python",
   "name": "python",
   "nbconvert_exporter": "python",
   "pygments_lexer": "ipython3",
   "version": "3.6.3"
  }
 },
 "nbformat": 4,
 "nbformat_minor": 2
}
